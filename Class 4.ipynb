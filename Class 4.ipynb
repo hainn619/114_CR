{
 "cells": [
  {
   "cell_type": "code",
   "execution_count": 25,
   "id": "0c30ac85",
   "metadata": {},
   "outputs": [],
   "source": [
    "class Node:\n",
    "    def __init__(self, data):\n",
    "        self.next = None\n",
    "        self.prev = None\n",
    "        self.data = data"
   ]
  },
  {
   "cell_type": "code",
   "execution_count": 66,
   "id": "6078f805",
   "metadata": {},
   "outputs": [],
   "source": [
    "class DoublyLinkList:\n",
    "    def __init__(self):\n",
    "        self.head = None\n",
    "        self.tail = None\n",
    "        \n",
    "        \n",
    "    def append(self, value):\n",
    "        if not self.head:\n",
    "            self.head = Node(value)\n",
    "            self.tail = self.head\n",
    "        else:\n",
    "            current = self.head\n",
    "            while current.next:\n",
    "                current = current.next\n",
    "            new_node = Node(value)\n",
    "            current.next = new_node\n",
    "            new_node.prev = current\n",
    "            self.tail = new_node\n",
    "    \n",
    "    def insert(self, index, data):\n",
    "        if not self.head:\n",
    "            self.head = Node(data)\n",
    "        else: \n",
    "            counter = 0\n",
    "            current = self.head\n",
    "            prev = None\n",
    "            while current.next and counter != index:\n",
    "                prev = current\n",
    "                current = current.next\n",
    "                counter += 1\n",
    "                if index == 0:\n",
    "                    current.head = self.head\n",
    "                    new_node = Node(data)\n",
    "                    new_node.next = current_head\n",
    "                    new_node.prev = None\n",
    "                if counter != index:\n",
    "                    current.next = Node(data)\n",
    "                elif counter == index:\n",
    "                    new_node = Node(data)\n",
    "                    prev.next = new_node\n",
    "                    new_node.next = current\n",
    "                    new_node.prev = prev         \n",
    "            \n",
    "    def __str__(self):\n",
    "        out = \"[%s\" % self.head.data\n",
    "        current = self.head\n",
    "        while current:\n",
    "            current = current.next\n",
    "            if current:                \n",
    "                out += \", %s\" % current.data           \n",
    "        out += \"]\"\n",
    "        return out\n",
    "            "
   ]
  },
  {
   "cell_type": "code",
   "execution_count": 67,
   "id": "8d9f9ceb",
   "metadata": {},
   "outputs": [
    {
     "name": "stdout",
     "output_type": "stream",
     "text": [
      "[1, 2, 3, 4, 5]\n"
     ]
    }
   ],
   "source": [
    "dbl = DoublyLinkList()\n",
    "dbl.append(1)\n",
    "dbl.append(2)\n",
    "dbl.append(3)\n",
    "dbl.append(4)\n",
    "dbl.append(5)\n",
    "print(dbl)"
   ]
  },
  {
   "cell_type": "code",
   "execution_count": null,
   "id": "bc791cde",
   "metadata": {},
   "outputs": [],
   "source": []
  },
  {
   "cell_type": "code",
   "execution_count": 68,
   "id": "6bd37f08",
   "metadata": {},
   "outputs": [],
   "source": [
    "dbl.insert(2, 2.5)"
   ]
  },
  {
   "cell_type": "code",
   "execution_count": 69,
   "id": "942a68c9",
   "metadata": {
    "scrolled": true
   },
   "outputs": [
    {
     "name": "stdout",
     "output_type": "stream",
     "text": [
      "[1, 2, 2.5, 2.5]\n"
     ]
    }
   ],
   "source": [
    "print(dbl)"
   ]
  },
  {
   "cell_type": "code",
   "execution_count": null,
   "id": "930dcb0f",
   "metadata": {},
   "outputs": [],
   "source": []
  }
 ],
 "metadata": {
  "kernelspec": {
   "display_name": "Python 3 (ipykernel)",
   "language": "python",
   "name": "python3"
  },
  "language_info": {
   "codemirror_mode": {
    "name": "ipython",
    "version": 3
   },
   "file_extension": ".py",
   "mimetype": "text/x-python",
   "name": "python",
   "nbconvert_exporter": "python",
   "pygments_lexer": "ipython3",
   "version": "3.8.10"
  }
 },
 "nbformat": 4,
 "nbformat_minor": 5
}
