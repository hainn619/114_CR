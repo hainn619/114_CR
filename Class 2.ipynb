{
 "cells": [
  {
   "cell_type": "code",
   "execution_count": 16,
   "id": "44c4d395",
   "metadata": {},
   "outputs": [],
   "source": [
    "class Node:\n",
    "    def __init__(self, data):\n",
    "        self.above = None\n",
    "        self.below = None\n",
    "        self.data = data\n",
    "    "
   ]
  },
  {
   "cell_type": "code",
   "execution_count": 28,
   "id": "38c4b832",
   "metadata": {},
   "outputs": [],
   "source": [
    "class Stack:\n",
    "    def __init__(self):\n",
    "        self.base= None\n",
    "        self.top = None\n",
    "        \n",
    "    def push(self, element):\n",
    "        if not self.base:\n",
    "            self.base = Node(element)\n",
    "            self.top = self.base\n",
    "        else:\n",
    "            topmost_item = self.top\n",
    "            new_node = Node(element)\n",
    "            topmost_item.above = new_node\n",
    "            new_node.below = topmost_item\n",
    "            self.top = new_node\n",
    "                \n",
    "    def pop(self):\n",
    "        if not self.base:\n",
    "            raise IndexError(\"stack empty\")\n",
    "        if self.top == self.base:\n",
    "            value = self.base.data\n",
    "            self.top = None\n",
    "            self.base = None\n",
    "            return value\n",
    "        below_top = self.top.below\n",
    "        top_node = self.top\n",
    "        below_top.above = None       \n",
    "        self.top = below_top\n",
    "        return top_node.data\n",
    "        \n",
    "    def size(self):\n",
    "        index = 0\n",
    "        if self.base == None:\n",
    "            return 0\n",
    "        current = self.base\n",
    "        while current.above != None:\n",
    "            index += 1\n",
    "            current = current.above\n",
    "        return index\n",
    "            \n",
    "        # should return the total amount of element in our stack\n",
    "        \n",
    "    def is_empty(self):\n",
    "        if self.base == None and self.above == None:\n",
    "            return True\n",
    "        else\n",
    "            False\n",
    "        # should return True if stack is empty\n",
    "    \n",
    "    def peek(self):\n",
    "        \n",
    "        # should return the \"data\" associated with the topmost Node without removing said Node from our stack"
   ]
  },
  {
   "cell_type": "code",
   "execution_count": 24,
   "id": "a1af7d8d",
   "metadata": {},
   "outputs": [],
   "source": [
    "def reverse_string(mystring):\n",
    "    output_str = \"\"\n",
    "    stack = Stack()\n",
    "    for letter in mystring:\n",
    "        stack.push(letter)\n",
    "    for _ in range(len(mystring)):\n",
    "        output_str += stack.pop()\n",
    "    return output_str"
   ]
  },
  {
   "cell_type": "code",
   "execution_count": 42,
   "id": "dce20af3",
   "metadata": {},
   "outputs": [],
   "source": [
    "class Queue:\n",
    "    def __init__(self):\n",
    "        self.items =[]        \n",
    "    def enqueue(self, element):\n",
    "        self.items.insert(0, element)\n",
    "        \n",
    "    def dequeue(self):\n",
    "        return self.items.pop()\n",
    "    \n",
    "    def size(self):\n",
    "        return len(self.items)\n",
    "    def is_empty(self):\n",
    "        return self.items==[]\n",
    "    def peek(self):\n",
    "        return self.items[len(self.items)-1]\n"
   ]
  },
  {
   "cell_type": "code",
   "execution_count": 43,
   "id": "6e93002b",
   "metadata": {},
   "outputs": [
    {
     "name": "stdout",
     "output_type": "stream",
     "text": [
      "Element: 0\n",
      "Element: 1\n",
      "Element: 2\n",
      "Element: 3\n",
      "Element: 4\n",
      "Element: 5\n",
      "Element: 6\n",
      "Element: 7\n",
      "Element: 8\n",
      "Element: 9\n"
     ]
    }
   ],
   "source": [
    "queue = Queue()\n",
    "\n",
    "for i in range(10):\n",
    "    queue.enqueue(i)\n",
    "    \n",
    "while not queue.is_empty():\n",
    "    print(\"Element: %s\" % queue.dequeue())"
   ]
  },
  {
   "cell_type": "code",
   "execution_count": null,
   "id": "bfa0efcd",
   "metadata": {},
   "outputs": [],
   "source": [
    "class QNode:\n",
    "    def __init__(self, data):\n",
    "        self.front = None\n",
    "        self.back = None\n",
    "        self.data = data\n",
    "class Queue:\n",
    "    def __init__(self):\n",
    "        self.next = None\n",
    "        self.last = None\n",
    "     \n",
    "    def enqueue(self, element):\n",
    "        new_node = QNode(element)\n",
    "        if not self.last:\n",
    "            self.last = QNode(element)\n",
    "            self.next = self.last\n",
    "        else:\n",
    "            new_node.front = self.last\n",
    "            self.last.back = new_node\n",
    "            self.last = new_node\n",
    "            \n",
    "        front_element = self.top\n",
    "        new_element = Element(element)\n",
    "        new_element.front = None\n",
    "        new_element.rear\n",
    "        most_front = new_node\n",
    "        mosft\n",
    "        \n",
    "        self.front = \n",
    "        self.rear  =\n",
    "        \n",
    "    "
   ]
  }
 ],
 "metadata": {
  "kernelspec": {
   "display_name": "Python 3 (ipykernel)",
   "language": "python",
   "name": "python3"
  },
  "language_info": {
   "codemirror_mode": {
    "name": "ipython",
    "version": 3
   },
   "file_extension": ".py",
   "mimetype": "text/x-python",
   "name": "python",
   "nbconvert_exporter": "python",
   "pygments_lexer": "ipython3",
   "version": "3.8.10"
  }
 },
 "nbformat": 4,
 "nbformat_minor": 5
}
