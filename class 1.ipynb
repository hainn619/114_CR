{
 "cells": [
  {
   "cell_type": "code",
   "execution_count": 1,
   "id": "38a209a4",
   "metadata": {},
   "outputs": [
    {
     "name": "stdout",
     "output_type": "stream",
     "text": [
      "h\n",
      "e\n",
      "l\n",
      "l\n",
      "o\n",
      ",\n",
      " \n",
      "w\n",
      "o\n",
      "r\n",
      "l\n",
      "d\n"
     ]
    }
   ],
   "source": [
    "for letter in \"hello, world\":\n",
    "    print(letter)"
   ]
  },
  {
   "cell_type": "code",
   "execution_count": 4,
   "id": "173dfa7b",
   "metadata": {},
   "outputs": [
    {
     "ename": "SyntaxError",
     "evalue": "invalid syntax (2475166737.py, line 4)",
     "output_type": "error",
     "traceback": [
      "\u001b[0;36m  Input \u001b[0;32mIn [4]\u001b[0;36m\u001b[0m\n\u001b[0;31m    > * they must be exactly the same length\u001b[0m\n\u001b[0m    ^\u001b[0m\n\u001b[0;31mSyntaxError\u001b[0m\u001b[0;31m:\u001b[0m invalid syntax\n"
     ]
    }
   ],
   "source": [
    "# Problem 1\n",
    "\n",
    "### given two string (string_a and string_b) determine if they are anagram of each other given the following criteria:\n",
    "> * they must be exactly the same length\n",
    "> * they must use exactly the same characters (no more, no less).\n",
    "\n",
    "## Instrustion\n",
    "Create a function called \"anagram_check\" that return true if the two parameters (both string) submitted are anagrams of each other and false otherwise"
   ]
  },
  {
   "cell_type": "code",
   "execution_count": 5,
   "id": "2b643469",
   "metadata": {},
   "outputs": [],
   "source": [
    "#bad solution, avoid this\n",
    "def anagram_check(str1, str2):\n",
    "    return sorted(str1)== sorted(str2)"
   ]
  },
  {
   "cell_type": "code",
   "execution_count": 6,
   "id": "93b64411",
   "metadata": {},
   "outputs": [
    {
     "data": {
      "text/plain": [
       "True"
      ]
     },
     "execution_count": 6,
     "metadata": {},
     "output_type": "execute_result"
    }
   ],
   "source": [
    "anagram_check(\"heart\", \"earth\")"
   ]
  },
  {
   "cell_type": "code",
   "execution_count": 20,
   "id": "66916fd4",
   "metadata": {},
   "outputs": [],
   "source": [
    "def anagram_checker(str1, str2):\n",
    "    str1=str1.lower()\n",
    "    str2=str2.lower()\n",
    "    if(len(str1)== len(str2)):\n",
    "        sorted_str1= sorted(str1)\n",
    "        sorted_str2= sorted(str2)\n",
    "        if(sorted_str1== sorted_str2):\n",
    "            return True\n",
    "        else:\n",
    "            return False\n",
    "    else:\n",
    "        return False\n",
    "        "
   ]
  },
  {
   "cell_type": "code",
   "execution_count": 21,
   "id": "cc3f9732",
   "metadata": {},
   "outputs": [
    {
     "data": {
      "text/plain": [
       "True"
      ]
     },
     "execution_count": 21,
     "metadata": {},
     "output_type": "execute_result"
    }
   ],
   "source": [
    "anagram_checker(\"hai\",\"ahi\")"
   ]
  },
  {
   "cell_type": "code",
   "execution_count": 22,
   "id": "aa444794",
   "metadata": {},
   "outputs": [
    {
     "data": {
      "text/plain": [
       "True"
      ]
     },
     "execution_count": 22,
     "metadata": {},
     "output_type": "execute_result"
    }
   ],
   "source": [
    "anagram_checker(\"hai\",\"ahi\")"
   ]
  },
  {
   "cell_type": "code",
   "execution_count": 23,
   "id": "7c8496ad",
   "metadata": {},
   "outputs": [
    {
     "data": {
      "text/plain": [
       "True"
      ]
     },
     "execution_count": 23,
     "metadata": {},
     "output_type": "execute_result"
    }
   ],
   "source": [
    "anagram_checker(\"HAI\",\"ahi\")"
   ]
  },
  {
   "cell_type": "code",
   "execution_count": 33,
   "id": "1becd94c",
   "metadata": {},
   "outputs": [],
   "source": [
    "def anagram_check(string_a, string_b):\n",
    "    string_a= (string_a.lower()).replace(\" \", \"\")\n",
    "    string_b= (string_b.lower()).replace(\" \", \"\")\n",
    "    if len(string_a) != len(string_b):\n",
    "        return False\n",
    "    char_times_a = dict()\n",
    "    char_times_b= dict()\n",
    "    for i in range (len (string_a)) :\n",
    "        if string_a[i] not in char_times_a.keys():\n",
    "            char_times_a[string_a[i]] = 1\n",
    "        else:\n",
    "            char_times_a[string_a[i]] += 1\n",
    "        if string_b[i] not in char_times_b.keys() :\n",
    "            char_times_b[string_b[i]]= 1\n",
    "        else:\n",
    "            char_times_b[string_b[i]]+= 1\n",
    "        return char_times_a ==  char_times_b"
   ]
  },
  {
   "cell_type": "code",
   "execution_count": 34,
   "id": "865b3f1b",
   "metadata": {},
   "outputs": [
    {
     "data": {
      "text/plain": [
       "False"
      ]
     },
     "execution_count": 34,
     "metadata": {},
     "output_type": "execute_result"
    }
   ],
   "source": [
    "# \"I am Lord Voldrmont\" is an anagram \"Tom marvolo Riddle\"\n",
    "\n",
    "anagram_check(\"I am Lord Voldrmont\",\"Tom marvolo Riddle\")"
   ]
  },
  {
   "cell_type": "code",
   "execution_count": 36,
   "id": "c683a4d4",
   "metadata": {},
   "outputs": [],
   "source": [
    "class Stack:\n",
    "    def __init__(self):\n",
    "        self.items=[]\n",
    "    def push(self, element):\n",
    "        self.items.append(element)\n",
    "    def pop(self):\n",
    "        self.items.pop()\n",
    "    def size(self):\n",
    "        return len(self.items)\n",
    "    def peek(self):\n",
    "        return self.items[len(self.items-1)]\n",
    "    def is_empty(self):\n",
    "        return self.items ==[]"
   ]
  },
  {
   "cell_type": "markdown",
   "id": "385f98a7",
   "metadata": {},
   "source": [
    "# Problem 2\n",
    "## use our stack class invert a string\n",
    "## Instructions\n",
    "Create a function called \" string_reverse\" that take a string as a parameter and invert it using our strack class.\n",
    "_*must use our stack class\n",
    "example string_reverse(\"rafael\") should return \"leafaR\""
   ]
  },
  {
   "cell_type": "code",
   "execution_count": 1,
   "id": "54024df7",
   "metadata": {},
   "outputs": [],
   "source": [
    "def string_reverse(mystring):\n",
    "    output_str=\"\"\n",
    "    stack= Stack()\n",
    "    for letter in mystring:\n",
    "        strack.push(letter)\n",
    "    while not stack.is_empty():\n",
    "        output_str += stack.pop()\n",
    "    return output_str"
   ]
  },
  {
   "cell_type": "code",
   "execution_count": 3,
   "id": "0e3c5fdc",
   "metadata": {},
   "outputs": [
    {
     "ename": "NameError",
     "evalue": "name 'Stack' is not defined",
     "output_type": "error",
     "traceback": [
      "\u001b[0;31m---------------------------------------------------------------------------\u001b[0m",
      "\u001b[0;31mNameError\u001b[0m                                 Traceback (most recent call last)",
      "Input \u001b[0;32mIn [3]\u001b[0m, in \u001b[0;36m<cell line: 1>\u001b[0;34m()\u001b[0m\n\u001b[0;32m----> 1\u001b[0m \u001b[43mstring_reverse\u001b[49m\u001b[43m(\u001b[49m\u001b[38;5;124;43m\"\u001b[39;49m\u001b[38;5;124;43mnguyen\u001b[39;49m\u001b[38;5;124;43m\"\u001b[39;49m\u001b[43m)\u001b[49m\n",
      "Input \u001b[0;32mIn [1]\u001b[0m, in \u001b[0;36mstring_reverse\u001b[0;34m(mystring)\u001b[0m\n\u001b[1;32m      1\u001b[0m \u001b[38;5;28;01mdef\u001b[39;00m \u001b[38;5;21mstring_reverse\u001b[39m(mystring):\n\u001b[1;32m      2\u001b[0m     output_str\u001b[38;5;241m=\u001b[39m\u001b[38;5;124m\"\u001b[39m\u001b[38;5;124m\"\u001b[39m\n\u001b[0;32m----> 3\u001b[0m     stack\u001b[38;5;241m=\u001b[39m \u001b[43mStack\u001b[49m()\n\u001b[1;32m      4\u001b[0m     \u001b[38;5;28;01mfor\u001b[39;00m letter \u001b[38;5;129;01min\u001b[39;00m mystring:\n\u001b[1;32m      5\u001b[0m         strack\u001b[38;5;241m.\u001b[39mpush(letter)\n",
      "\u001b[0;31mNameError\u001b[0m: name 'Stack' is not defined"
     ]
    }
   ],
   "source": [
    "string_reverse(\"nguyen\")"
   ]
  },
  {
   "cell_type": "code",
   "execution_count": null,
   "id": "91e66acb",
   "metadata": {},
   "outputs": [],
   "source": []
  }
 ],
 "metadata": {
  "kernelspec": {
   "display_name": "Python 3 (ipykernel)",
   "language": "python",
   "name": "python3"
  },
  "language_info": {
   "codemirror_mode": {
    "name": "ipython",
    "version": 3
   },
   "file_extension": ".py",
   "mimetype": "text/x-python",
   "name": "python",
   "nbconvert_exporter": "python",
   "pygments_lexer": "ipython3",
   "version": "3.8.10"
  }
 },
 "nbformat": 4,
 "nbformat_minor": 5
}
